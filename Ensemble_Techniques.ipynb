{
  "nbformat": 4,
  "nbformat_minor": 0,
  "metadata": {
    "colab": {
      "provenance": []
    },
    "kernelspec": {
      "name": "python3",
      "display_name": "Python 3"
    },
    "language_info": {
      "name": "python"
    }
  },
  "cells": [
    {
      "cell_type": "markdown",
      "source": [
        "##THEORETICAL"
      ],
      "metadata": {
        "id": "Pr15qaoUHtBX"
      }
    },
    {
      "cell_type": "markdown",
      "source": [
        "1.Can we use Bagging for regression problems.\n"
      ],
      "metadata": {
        "id": "wSbcLVv677Ce"
      }
    },
    {
      "cell_type": "code",
      "source": [
        "'''Yes, Bagging can be used for regression problems. In Bagging, multiple models are trained independently on random subsets of the data, and for regression, the predictions of all models are averaged to produce a final prediction. This helps in reducing variance and improving model performance.'''"
      ],
      "metadata": {
        "id": "kK6dOmNqCIRC"
      },
      "execution_count": null,
      "outputs": []
    },
    {
      "cell_type": "markdown",
      "source": [
        "2.What is the difference between multiple model training and single model training.\n"
      ],
      "metadata": {
        "id": "qMJPQDSV77A8"
      }
    },
    {
      "cell_type": "code",
      "source": [
        "'''Multiple Model Training: Involves training several models on the same dataset or different subsets of the data. The predictions from these models are often combined using techniques like Bagging or Boosting.\n",
        "Single Model Training: Involves training only one model on the entire dataset. It is a more straightforward approach but may not capture as much variation or complexity as ensemble methods.\n",
        "'''"
      ],
      "metadata": {
        "id": "K7PI-WtwCO0L"
      },
      "execution_count": null,
      "outputs": []
    },
    {
      "cell_type": "markdown",
      "source": [
        "3.Explain the concept of feature randomness in Random Forest.\n"
      ],
      "metadata": {
        "id": "hXJFppvk8qPt"
      }
    },
    {
      "cell_type": "code",
      "source": [
        "'''Feature randomness in Random Forest refers to the practice of selecting a random subset of features (attributes) for each decision tree during the training process. This introduces diversity among the trees, ensuring that they are less correlated, and helps in reducing overfitting.\n",
        "\n",
        "'''"
      ],
      "metadata": {
        "id": "TlXG6GsmCSqY"
      },
      "execution_count": null,
      "outputs": []
    },
    {
      "cell_type": "markdown",
      "source": [
        "4.What is OOB (Out-of-Bag) Score.\n"
      ],
      "metadata": {
        "id": "4fLKZJSz76_f"
      }
    },
    {
      "cell_type": "code",
      "source": [
        "'''The OOB score is a method of evaluating the performance of a Random Forest model. It uses data points that were not included in the bootstrap sample (the out-of-bag samples) to test the model. This provides an internal validation set, offering a way to estimate model accuracy without needing a separate test set.'''"
      ],
      "metadata": {
        "id": "93a5eEjKCV8h"
      },
      "execution_count": null,
      "outputs": []
    },
    {
      "cell_type": "markdown",
      "source": [
        "5.How can you measure the importance of features in a Random Forest model.\n"
      ],
      "metadata": {
        "id": "7BA8EHTu76-j"
      }
    },
    {
      "cell_type": "code",
      "source": [
        "'''Feature importance in Random Forest can be measured using metrics like:\n",
        "\n",
        "Gini Importance: Based on how well a feature reduces the impurity in the trees.\n",
        "Permutation Importance: By measuring the decrease in model performance when the values of a feature are randomly permuted.\n",
        "'''"
      ],
      "metadata": {
        "id": "9O4_T2OJCb9e"
      },
      "execution_count": null,
      "outputs": []
    },
    {
      "cell_type": "markdown",
      "source": [
        "6.Explain the working principle of a Bagging Classifier.\n"
      ],
      "metadata": {
        "id": "-SGlEsBj769P"
      }
    },
    {
      "cell_type": "code",
      "source": [
        "'''A Bagging Classifier works by training multiple classifiers (usually decision trees) on different random subsets of the training data (with replacement). After the models are trained, their predictions are combined through majority voting (for classification) to make the final prediction.'''"
      ],
      "metadata": {
        "id": "XtGsQ7hxCiDw"
      },
      "execution_count": null,
      "outputs": []
    },
    {
      "cell_type": "markdown",
      "source": [
        "7.How do you evaluate a Bagging Classifier’s performance.\n"
      ],
      "metadata": {
        "id": "_v1RJmMU765g"
      }
    },
    {
      "cell_type": "code",
      "source": [
        "'''The performance of a Bagging Classifier is typically evaluated using metrics such as:\n",
        "\n",
        "Accuracy\n",
        "Precision, recall, and F1-score (for imbalanced data)\n",
        "Confusion matrix\n",
        "Cross-validation'''"
      ],
      "metadata": {
        "id": "8xhj6HO0DBj6"
      },
      "execution_count": null,
      "outputs": []
    },
    {
      "cell_type": "markdown",
      "source": [
        "8.How does a Bagging Regressor work.\n"
      ],
      "metadata": {
        "id": "S-fGB7lJ762M"
      }
    },
    {
      "cell_type": "code",
      "source": [
        "'''A Bagging Regressor works similarly to a Bagging Classifier but is designed for regression tasks. It trains multiple regression models on random subsets of the data and averages their predictions to produce the final output.'''"
      ],
      "metadata": {
        "id": "HKRtGjznDELN"
      },
      "execution_count": null,
      "outputs": []
    },
    {
      "cell_type": "markdown",
      "source": [
        "9.What is the main advantage of ensemble techniques.\n"
      ],
      "metadata": {
        "id": "GsnWNCGJ76zU"
      }
    },
    {
      "cell_type": "code",
      "source": [
        "'''The main advantage of ensemble techniques is that they improve the overall performance of the model by combining the strengths of multiple base models, thereby reducing variance, bias, or both. This leads to better generalization and robustness.'''"
      ],
      "metadata": {
        "id": "M16e7roxDG9J"
      },
      "execution_count": null,
      "outputs": []
    },
    {
      "cell_type": "markdown",
      "source": [
        "10.What is the main challenge of ensemble methods.\n"
      ],
      "metadata": {
        "id": "LX_7g1-P76uf"
      }
    },
    {
      "cell_type": "code",
      "source": [
        "'''The main challenge of ensemble methods is their complexity. They require more computational resources and are harder to interpret than individual models. Additionally, overfitting can occur if not properly tuned or if too many weak models are combined.'''"
      ],
      "metadata": {
        "id": "CaJjBfXP9VKn"
      },
      "execution_count": null,
      "outputs": []
    },
    {
      "cell_type": "markdown",
      "source": [
        "11.Explain the key idea behind ensemble techniques.\n"
      ],
      "metadata": {
        "id": "yVAopaOy76sV"
      }
    },
    {
      "cell_type": "code",
      "source": [
        "'''The key idea behind ensemble techniques is to combine multiple models to make a final prediction. The goal is to leverage the diversity of the models to improve predictive accuracy, robustness, and generalization by reducing errors such as variance and bias.'''"
      ],
      "metadata": {
        "id": "X-71wCH2DMNo"
      },
      "execution_count": null,
      "outputs": []
    },
    {
      "cell_type": "markdown",
      "source": [
        "12.What is a Random Forest Classifier.\n"
      ],
      "metadata": {
        "id": "dk6ynOsN76jq"
      }
    },
    {
      "cell_type": "code",
      "source": [
        "'''A Random Forest Classifier is an ensemble learning method based on decision trees. It constructs a multitude of decision trees during training and outputs the class that is the mode of the classes (for classification tasks) of the individual trees.'''"
      ],
      "metadata": {
        "id": "8z-ahytrDO7o"
      },
      "execution_count": null,
      "outputs": []
    },
    {
      "cell_type": "markdown",
      "source": [
        "13.What are the main types of ensemble techniques.\n"
      ],
      "metadata": {
        "id": "uD0Dxbf_9WBj"
      }
    },
    {
      "cell_type": "code",
      "source": [
        "'''The main types of ensemble techniques are:\n",
        "\n",
        "Bagging: Builds multiple models using different subsets of data and combines their outputs.\n",
        "Boosting: Sequentially builds models, where each new model corrects the errors of the previous ones.\n",
        "Stacking: Combines multiple different models (often heterogeneous) to make predictions.'''"
      ],
      "metadata": {
        "id": "yEHGK0BDDR08"
      },
      "execution_count": null,
      "outputs": []
    },
    {
      "cell_type": "markdown",
      "source": [
        "14.What is ensemble learning in machine learning.\n"
      ],
      "metadata": {
        "id": "y_ggvWzE9V99"
      }
    },
    {
      "cell_type": "code",
      "source": [
        "'''Ensemble learning is a technique in machine learning where multiple models (often called base learners) are combined to solve a problem. The purpose is to improve the overall performance by reducing the risk of overfitting and increasing accuracy.'''"
      ],
      "metadata": {
        "id": "6RHZ45ndDUX_"
      },
      "execution_count": null,
      "outputs": []
    },
    {
      "cell_type": "markdown",
      "source": [
        "15.When should we avoid using ensemble methods.\n"
      ],
      "metadata": {
        "id": "inSdh_IZ9V7U"
      }
    },
    {
      "cell_type": "code",
      "source": [
        "'''Ensemble methods should be avoided when:\n",
        "\n",
        "The model needs to be interpretable (e.g., decision trees are more interpretable than ensemble models).\n",
        "Computational resources are limited, as ensemble models can be expensive to train and deploy.\n",
        "The dataset is very small, where ensemble models may not offer significant improvement.'''"
      ],
      "metadata": {
        "id": "_MRtDGKFDYek"
      },
      "execution_count": null,
      "outputs": []
    },
    {
      "cell_type": "markdown",
      "source": [
        "16.How does Bagging help in reducing overfitting.\n"
      ],
      "metadata": {
        "id": "BkLPXcwM9V4u"
      }
    },
    {
      "cell_type": "code",
      "source": [
        "'''Bagging helps in reducing overfitting by training multiple models on different subsets of the data. By averaging the predictions, Bagging reduces the variance and prevents the model from learning overly complex patterns specific to the training data.'''"
      ],
      "metadata": {
        "id": "P4rM3u7IDbTC"
      },
      "execution_count": null,
      "outputs": []
    },
    {
      "cell_type": "markdown",
      "source": [
        "17.Why is Random Forest better than a single Decision Tree.\n"
      ],
      "metadata": {
        "id": "XqstUw2p9V2D"
      }
    },
    {
      "cell_type": "code",
      "source": [
        "'''Random Forest is better than a single Decision Tree because it combines multiple trees to make predictions. This reduces the risk of overfitting that occurs in a single Decision Tree, where the model may fit too closely to the training data. Random Forest introduces randomness in both data and features, making it more robust.'''"
      ],
      "metadata": {
        "id": "WZG-KNnvDd3K"
      },
      "execution_count": null,
      "outputs": []
    },
    {
      "cell_type": "markdown",
      "source": [
        "18.What is the role of bootstrap sampling in Bagging.\n"
      ],
      "metadata": {
        "id": "3vxxJn9U9VzU"
      }
    },
    {
      "cell_type": "code",
      "source": [
        "'''Bootstrap sampling involves randomly selecting subsets of data (with replacement) for training each model in the ensemble. This technique ensures that each model sees a different view of the data, introducing variability and reducing overfitting.'''"
      ],
      "metadata": {
        "id": "FSwd7txvDgu1"
      },
      "execution_count": null,
      "outputs": []
    },
    {
      "cell_type": "markdown",
      "source": [
        "19.What are some real-world applications of ensemble techniques.\n"
      ],
      "metadata": {
        "id": "aN6w61659Vwn"
      }
    },
    {
      "cell_type": "code",
      "source": [
        "'''Real-world applications of ensemble techniques include:\n",
        "\n",
        "Healthcare: Disease prediction and diagnosis.\n",
        "Finance: Fraud detection and risk assessment.\n",
        "Marketing: Customer segmentation and churn prediction.\n",
        "Retail: Sales forecasting and inventory management.'''"
      ],
      "metadata": {
        "id": "LDLBiCCTDk5y"
      },
      "execution_count": null,
      "outputs": []
    },
    {
      "cell_type": "markdown",
      "source": [
        "20.What is the difference between Bagging and Boosting?"
      ],
      "metadata": {
        "id": "icRzivZW9pZR"
      }
    },
    {
      "cell_type": "code",
      "execution_count": null,
      "metadata": {
        "id": "QGhiRDSg6iAS"
      },
      "outputs": [],
      "source": [
        "'''Bagging: Builds multiple models independently on random subsets of data and combines their outputs. It reduces variance and works well with high-variance models like decision trees.\n",
        "Boosting: Builds models sequentially, where each model corrects the errors of the previous ones. It reduces both bias and variance and tends to work well for improving weak models.'''"
      ]
    },
    {
      "cell_type": "markdown",
      "source": [
        "##PRACTICAL"
      ],
      "metadata": {
        "id": "h8EhH-jXD9s0"
      }
    },
    {
      "cell_type": "markdown",
      "source": [
        "21.Train a Bagging Classifier using Decision Trees on a sample dataset and print model accuracy.\n"
      ],
      "metadata": {
        "id": "YbYZUsXu90Yh"
      }
    },
    {
      "cell_type": "code",
      "source": [
        "from sklearn.ensemble import BaggingClassifier\n",
        "from sklearn.tree import DecisionTreeClassifier\n",
        "from sklearn.datasets import make_classification\n",
        "from sklearn.model_selection import train_test_split\n",
        "from sklearn.metrics import accuracy_score\n",
        "\n",
        "# Create synthetic dataset\n",
        "X, y = make_classification(n_samples=1000, n_features=20, random_state=42)\n",
        "\n",
        "# Split into train and test sets\n",
        "X_train, X_test, y_train, y_test = train_test_split(X, y, test_size=0.2, random_state=42)\n",
        "\n",
        "# Train Bagging Classifier\n",
        "bagging_clf = BaggingClassifier(estimator=DecisionTreeClassifier(), n_estimators=10, random_state=42)\n",
        "bagging_clf.fit(X_train, y_train)\n",
        "\n",
        "# Predict and calculate accuracy\n",
        "y_pred = bagging_clf.predict(X_test)\n",
        "print(\"Model Accuracy:\", accuracy_score(y_test, y_pred))\n"
      ],
      "metadata": {
        "colab": {
          "base_uri": "https://localhost:8080/"
        },
        "id": "JOR7Pe_jECNW",
        "outputId": "7f38a300-f263-4c4c-f381-bad55a0ed4a5"
      },
      "execution_count": 36,
      "outputs": [
        {
          "output_type": "stream",
          "name": "stdout",
          "text": [
            "Model Accuracy: 0.885\n"
          ]
        }
      ]
    },
    {
      "cell_type": "markdown",
      "source": [
        "22.Train a Bagging Regressor using Decision Trees and evaluate using Mean Squared Error (MSE).\n"
      ],
      "metadata": {
        "id": "56JzCNVn90U9"
      }
    },
    {
      "cell_type": "code",
      "source": [
        "from sklearn.ensemble import BaggingRegressor\n",
        "from sklearn.tree import DecisionTreeRegressor\n",
        "from sklearn.datasets import make_regression\n",
        "from sklearn.model_selection import train_test_split\n",
        "from sklearn.metrics import mean_squared_error\n",
        "\n",
        "# Create synthetic regression dataset\n",
        "X, y = make_regression(n_samples=1000, n_features=10, noise=0.2, random_state=42)\n",
        "\n",
        "# Split into train and test sets\n",
        "X_train, X_test, y_train, y_test = train_test_split(X, y, test_size=0.2, random_state=42)\n",
        "\n",
        "# Train Bagging Regressor\n",
        "bagging_reg = BaggingRegressor(estimator=DecisionTreeRegressor(), n_estimators=10, random_state=42)\n",
        "bagging_reg.fit(X_train, y_train)\n",
        "\n",
        "# Predict and calculate MSE\n",
        "y_pred = bagging_reg.predict(X_test)\n",
        "print(\"Mean Squared Error:\", mean_squared_error(y_test, y_pred))\n"
      ],
      "metadata": {
        "colab": {
          "base_uri": "https://localhost:8080/"
        },
        "id": "_mxEkDgaEE-A",
        "outputId": "e17218b0-a78e-470e-e9c9-a920e29654fd"
      },
      "execution_count": 35,
      "outputs": [
        {
          "output_type": "stream",
          "name": "stdout",
          "text": [
            "Mean Squared Error: 3181.6743862298945\n"
          ]
        }
      ]
    },
    {
      "cell_type": "markdown",
      "source": [
        "23.Train a Random Forest Classifier on the Breast Cancer dataset and print feature importance scores.\n"
      ],
      "metadata": {
        "id": "zR5wKFyn90Sb"
      }
    },
    {
      "cell_type": "code",
      "source": [
        "from sklearn.ensemble import RandomForestClassifier\n",
        "from sklearn.datasets import load_breast_cancer\n",
        "import pandas as pd\n",
        "\n",
        "# Load dataset\n",
        "data = load_breast_cancer()\n",
        "X, y = data.data, data.target\n",
        "\n",
        "# Train Random Forest Classifier\n",
        "rf_clf = RandomForestClassifier(n_estimators=100, random_state=42)\n",
        "rf_clf.fit(X, y)\n",
        "\n",
        "# Print feature importance scores\n",
        "feature_importances = pd.Series(rf_clf.feature_importances_, index=data.feature_names)\n",
        "print(feature_importances.sort_values(ascending=False))\n"
      ],
      "metadata": {
        "colab": {
          "base_uri": "https://localhost:8080/"
        },
        "id": "KsYfp-ceEHVb",
        "outputId": "4602c5e8-cbfb-475b-ea75-6459a93d7955"
      },
      "execution_count": 3,
      "outputs": [
        {
          "output_type": "stream",
          "name": "stdout",
          "text": [
            "worst area                 0.139357\n",
            "worst concave points       0.132225\n",
            "mean concave points        0.107046\n",
            "worst radius               0.082848\n",
            "worst perimeter            0.080850\n",
            "mean perimeter             0.067990\n",
            "mean concavity             0.066917\n",
            "mean area                  0.060462\n",
            "worst concavity            0.037339\n",
            "mean radius                0.034843\n",
            "area error                 0.029553\n",
            "worst compactness          0.019864\n",
            "worst texture              0.017485\n",
            "mean texture               0.015225\n",
            "radius error               0.014264\n",
            "worst smoothness           0.012232\n",
            "mean compactness           0.011597\n",
            "perimeter error            0.010085\n",
            "worst symmetry             0.008179\n",
            "mean smoothness            0.007958\n",
            "fractal dimension error    0.005942\n",
            "concavity error            0.005820\n",
            "compactness error          0.005612\n",
            "smoothness error           0.004722\n",
            "worst fractal dimension    0.004497\n",
            "concave points error       0.003760\n",
            "texture error              0.003744\n",
            "symmetry error             0.003546\n",
            "mean symmetry              0.003423\n",
            "mean fractal dimension     0.002615\n",
            "dtype: float64\n"
          ]
        }
      ]
    },
    {
      "cell_type": "markdown",
      "source": [
        "24.Train a Random Forest Regressor and compare its performance with a single Decision Tree.\n"
      ],
      "metadata": {
        "id": "nZTb63PP90QD"
      }
    },
    {
      "cell_type": "code",
      "source": [
        "from sklearn.ensemble import RandomForestRegressor\n",
        "from sklearn.tree import DecisionTreeRegressor\n",
        "from sklearn.datasets import make_regression\n",
        "from sklearn.model_selection import train_test_split\n",
        "from sklearn.metrics import mean_squared_error\n",
        "\n",
        "# Create synthetic regression dataset\n",
        "X, y = make_regression(n_samples=1000, n_features=10, noise=0.2, random_state=42)\n",
        "\n",
        "# Split into train and test sets\n",
        "X_train, X_test, y_train, y_test = train_test_split(X, y, test_size=0.2, random_state=42)\n",
        "\n",
        "# Train Decision Tree Regressor\n",
        "dt_reg = DecisionTreeRegressor(random_state=42)\n",
        "dt_reg.fit(X_train, y_train)\n",
        "dt_pred = dt_reg.predict(X_test)\n",
        "\n",
        "# Train Random Forest Regressor\n",
        "rf_reg = RandomForestRegressor(n_estimators=100, random_state=42)\n",
        "rf_reg.fit(X_train, y_train)\n",
        "rf_pred = rf_reg.predict(X_test)\n",
        "\n",
        "# Compare Mean Squared Error\n",
        "print(\"Decision Tree MSE:\", mean_squared_error(y_test, dt_pred))\n",
        "print(\"Random Forest MSE:\", mean_squared_error(y_test, rf_pred))\n"
      ],
      "metadata": {
        "colab": {
          "base_uri": "https://localhost:8080/"
        },
        "id": "8rJsHnT9EOPl",
        "outputId": "2354ce73-1e8d-4782-bb88-f655ce3e473d"
      },
      "execution_count": 4,
      "outputs": [
        {
          "output_type": "stream",
          "name": "stdout",
          "text": [
            "Decision Tree MSE: 6413.149622812587\n",
            "Random Forest MSE: 2609.093889983524\n"
          ]
        }
      ]
    },
    {
      "cell_type": "markdown",
      "source": [
        "25.Compute the Out-of-Bag (OOB) Score for a Random Forest Classifier.\n"
      ],
      "metadata": {
        "id": "6WojE7gO90NL"
      }
    },
    {
      "cell_type": "code",
      "source": [
        "from sklearn.ensemble import RandomForestClassifier\n",
        "from sklearn.datasets import make_classification\n",
        "\n",
        "# Create synthetic dataset\n",
        "X, y = make_classification(n_samples=1000, n_features=20, random_state=42)\n",
        "\n",
        "# Train Random Forest Classifier with OOB Score\n",
        "rf_clf = RandomForestClassifier(n_estimators=100, oob_score=True, random_state=42)\n",
        "rf_clf.fit(X, y)\n",
        "\n",
        "# Print OOB Score\n",
        "print(\"OOB Score:\", rf_clf.oob_score_)\n"
      ],
      "metadata": {
        "colab": {
          "base_uri": "https://localhost:8080/"
        },
        "id": "S1pSvvctET7s",
        "outputId": "f13fadc8-3d84-410e-f700-2f635290a241"
      },
      "execution_count": 5,
      "outputs": [
        {
          "output_type": "stream",
          "name": "stdout",
          "text": [
            "OOB Score: 0.895\n"
          ]
        }
      ]
    },
    {
      "cell_type": "markdown",
      "source": [
        "26.Train a Bagging Classifier using SVM as a base estimator and print accuracy.\n"
      ],
      "metadata": {
        "id": "mdcT71dV90Km"
      }
    },
    {
      "cell_type": "code",
      "source": [
        "from sklearn.ensemble import BaggingClassifier\n",
        "from sklearn.svm import SVC\n",
        "from sklearn.datasets import make_classification\n",
        "from sklearn.model_selection import train_test_split\n",
        "from sklearn.metrics import accuracy_score\n",
        "\n",
        "# Create synthetic dataset\n",
        "X, y = make_classification(n_samples=1000, n_features=20, random_state=42)\n",
        "\n",
        "# Split into train and test sets\n",
        "X_train, X_test, y_train, y_test = train_test_split(X, y, test_size=0.2, random_state=42)\n",
        "\n",
        "# Train Bagging Classifier with SVM\n",
        "# The 'base_estimator' argument has been replaced with 'estimator'\n",
        "bagging_clf = BaggingClassifier(estimator=SVC(), n_estimators=10, random_state=42)\n",
        "bagging_clf.fit(X_train, y_train)\n",
        "\n",
        "# Predict and calculate accuracy\n",
        "y_pred = bagging_clf.predict(X_test)\n",
        "print(\"Model Accuracy:\", accuracy_score(y_test, y_pred))"
      ],
      "metadata": {
        "colab": {
          "base_uri": "https://localhost:8080/"
        },
        "id": "sZTUGWgGEYJp",
        "outputId": "e2d28243-7872-45f9-a6c2-6651e7f91cc6"
      },
      "execution_count": 34,
      "outputs": [
        {
          "output_type": "stream",
          "name": "stdout",
          "text": [
            "Model Accuracy: 0.87\n"
          ]
        }
      ]
    },
    {
      "cell_type": "markdown",
      "source": [
        "27.Train a Random Forest Classifier with different numbers of trees and compare accuracy.\n"
      ],
      "metadata": {
        "id": "YIl0rpzG90H0"
      }
    },
    {
      "cell_type": "code",
      "source": [
        "from sklearn.ensemble import RandomForestClassifier\n",
        "from sklearn.datasets import make_classification\n",
        "from sklearn.model_selection import train_test_split\n",
        "from sklearn.metrics import accuracy_score\n",
        "\n",
        "# Create synthetic dataset\n",
        "X, y = make_classification(n_samples=1000, n_features=20, random_state=42)\n",
        "\n",
        "# Split into train and test sets\n",
        "X_train, X_test, y_train, y_test = train_test_split(X, y, test_size=0.2, random_state=42)\n",
        "\n",
        "# Train and evaluate Random Forest with different numbers of trees\n",
        "for n_trees in [10, 50, 100, 200]:\n",
        "    rf_clf = RandomForestClassifier(n_estimators=n_trees, random_state=42)\n",
        "    rf_clf.fit(X_train, y_train)\n",
        "    y_pred = rf_clf.predict(X_test)\n",
        "    print(f\"Accuracy with {n_trees} trees:\", accuracy_score(y_test, y_pred))\n"
      ],
      "metadata": {
        "colab": {
          "base_uri": "https://localhost:8080/"
        },
        "id": "BHCos1zOEagx",
        "outputId": "37a36705-7b0b-48cf-9ead-bb38983bc78e"
      },
      "execution_count": 7,
      "outputs": [
        {
          "output_type": "stream",
          "name": "stdout",
          "text": [
            "Accuracy with 10 trees: 0.855\n",
            "Accuracy with 50 trees: 0.88\n",
            "Accuracy with 100 trees: 0.9\n",
            "Accuracy with 200 trees: 0.89\n"
          ]
        }
      ]
    },
    {
      "cell_type": "markdown",
      "source": [
        "28.Train a Bagging Classifier using Logistic Regression as a base estimator and print AUC score.\n"
      ],
      "metadata": {
        "id": "xJFVfNTP90FI"
      }
    },
    {
      "cell_type": "code",
      "source": [
        "from sklearn.ensemble import BaggingClassifier\n",
        "from sklearn.linear_model import LogisticRegression\n",
        "from sklearn.datasets import make_classification\n",
        "from sklearn.model_selection import train_test_split\n",
        "from sklearn.metrics import roc_auc_score\n",
        "\n",
        "# Create synthetic dataset\n",
        "X, y = make_classification(n_samples=1000, n_features=20, random_state=42)\n",
        "\n",
        "# Split into train and test sets\n",
        "X_train, X_test, y_train, y_test = train_test_split(X, y, test_size=0.2, random_state=42)\n",
        "\n",
        "# Train Bagging Classifier with Logistic Regression\n",
        "# The 'base_estimator' argument has been replaced with 'estimator'\n",
        "bagging_clf = BaggingClassifier(estimator=LogisticRegression(), n_estimators=10, random_state=42)\n",
        "bagging_clf.fit(X_train, y_train)\n",
        "\n",
        "# Predict probabilities and compute AUC score\n",
        "y_prob = bagging_clf.predict_proba(X_test)[:, 1]\n",
        "print(\"AUC Score:\", roc_auc_score(y_test, y_prob))"
      ],
      "metadata": {
        "colab": {
          "base_uri": "https://localhost:8080/"
        },
        "id": "2KfwsekHEdAP",
        "outputId": "fc100b71-c384-4ec5-febf-0b62a6dd1a82"
      },
      "execution_count": 33,
      "outputs": [
        {
          "output_type": "stream",
          "name": "stdout",
          "text": [
            "AUC Score: 0.9225203497135966\n"
          ]
        }
      ]
    },
    {
      "cell_type": "markdown",
      "source": [
        "29.Train a Random Forest Regressor and analyze feature importance scores.\n"
      ],
      "metadata": {
        "id": "PJFiIcqd90Cf"
      }
    },
    {
      "cell_type": "code",
      "source": [
        "from sklearn.ensemble import RandomForestRegressor\n",
        "from sklearn.datasets import make_regression\n",
        "import pandas as pd\n",
        "\n",
        "# Create synthetic regression dataset\n",
        "X, y = make_regression(n_samples=1000, n_features=10, noise=0.2, random_state=42)\n",
        "\n",
        "# Train Random Forest Regressor\n",
        "rf_reg = RandomForestRegressor(n_estimators=100, random_state=42)\n",
        "rf_reg.fit(X, y)\n",
        "\n",
        "# Print feature importance scores\n",
        "feature_importances = pd.Series(rf_reg.feature_importances_)\n",
        "print(feature_importances.sort_values(ascending=False))\n"
      ],
      "metadata": {
        "colab": {
          "base_uri": "https://localhost:8080/"
        },
        "id": "4TYgWP58EfID",
        "outputId": "74c1cdb2-7e7a-4626-e153-27d9bb1760a4"
      },
      "execution_count": 9,
      "outputs": [
        {
          "output_type": "stream",
          "name": "stdout",
          "text": [
            "3    0.337452\n",
            "6    0.290048\n",
            "9    0.203566\n",
            "0    0.041871\n",
            "2    0.038493\n",
            "1    0.035598\n",
            "5    0.015657\n",
            "7    0.015004\n",
            "4    0.011310\n",
            "8    0.011000\n",
            "dtype: float64\n"
          ]
        }
      ]
    },
    {
      "cell_type": "markdown",
      "source": [
        "30.Train an ensemble model using both Bagging and Random Forest and compare accuracy.\n"
      ],
      "metadata": {
        "id": "tyHnY88m9z_v"
      }
    },
    {
      "cell_type": "code",
      "source": [
        "from sklearn.ensemble import BaggingClassifier, RandomForestClassifier\n",
        "from sklearn.tree import DecisionTreeClassifier\n",
        "from sklearn.datasets import make_classification\n",
        "from sklearn.model_selection import train_test_split\n",
        "from sklearn.metrics import accuracy_score\n",
        "\n",
        "# Create synthetic dataset\n",
        "X, y = make_classification(n_samples=1000, n_features=20, random_state=42)\n",
        "\n",
        "# Split into train and test sets\n",
        "X_train, X_test, y_train, y_test = train_test_split(X, y, test_size=0.2, random_state=42)\n",
        "\n",
        "# Train Bagging Classifier\n",
        "# The 'base_estimator' argument has been replaced with 'estimator'\n",
        "bagging_clf = BaggingClassifier(estimator=DecisionTreeClassifier(), n_estimators=10, random_state=42)\n",
        "bagging_clf.fit(X_train, y_train)\n",
        "y_pred_bagging = bagging_clf.predict(X_test)\n",
        "\n",
        "# Train Random Forest Classifier\n",
        "rf_clf = RandomForestClassifier(n_estimators=100, random_state=42)\n",
        "rf_clf.fit(X_train, y_train)\n",
        "y_pred_rf = rf_clf.predict(X_test)\n",
        "\n",
        "# Compare accuracies\n",
        "print(\"Bagging Classifier Accuracy:\", accuracy_score(y_test, y_pred_bagging))\n",
        "print(\"Random Forest Classifier Accuracy:\", accuracy_score(y_test, y_pred_rf))"
      ],
      "metadata": {
        "colab": {
          "base_uri": "https://localhost:8080/"
        },
        "id": "7YtxTiO_Et4w",
        "outputId": "9b74b4e1-0874-427a-98a1-d9df37e6d312"
      },
      "execution_count": 32,
      "outputs": [
        {
          "output_type": "stream",
          "name": "stdout",
          "text": [
            "Bagging Classifier Accuracy: 0.885\n",
            "Random Forest Classifier Accuracy: 0.9\n"
          ]
        }
      ]
    },
    {
      "cell_type": "markdown",
      "source": [
        "31.Train a Random Forest Classifier and tune hyperparameters using GridSearchCV.\n"
      ],
      "metadata": {
        "id": "CUEhZ5ff9z9C"
      }
    },
    {
      "cell_type": "code",
      "source": [
        "from sklearn.ensemble import RandomForestClassifier\n",
        "from sklearn.datasets import make_classification\n",
        "from sklearn.model_selection import train_test_split, GridSearchCV\n",
        "\n",
        "# Create synthetic dataset\n",
        "X, y = make_classification(n_samples=1000, n_features=20, random_state=42)\n",
        "\n",
        "# Split into train and test sets\n",
        "X_train, X_test, y_train, y_test = train_test_split(X, y, test_size=0.2, random_state=42)\n",
        "\n",
        "# Set up GridSearchCV\n",
        "param_grid = {'n_estimators': [50, 100, 150], 'max_depth': [None, 10, 20]}\n",
        "grid_search = GridSearchCV(RandomForestClassifier(random_state=42), param_grid, cv=5)\n",
        "grid_search.fit(X_train, y_train)\n",
        "\n",
        "# Print best parameters\n",
        "print(\"Best parameters:\", grid_search.best_params_)\n"
      ],
      "metadata": {
        "colab": {
          "base_uri": "https://localhost:8080/"
        },
        "id": "C7fUyYI-EwUO",
        "outputId": "dec51ee8-6d0e-4787-e46f-bf442debe486"
      },
      "execution_count": 11,
      "outputs": [
        {
          "output_type": "stream",
          "name": "stdout",
          "text": [
            "Best parameters: {'max_depth': 10, 'n_estimators': 150}\n"
          ]
        }
      ]
    },
    {
      "cell_type": "markdown",
      "source": [
        "32.Train a Bagging Regressor with different numbers of base estimators and compare performance.\n"
      ],
      "metadata": {
        "id": "0WviszUX9z6Q"
      }
    },
    {
      "cell_type": "code",
      "source": [
        "from sklearn.ensemble import BaggingRegressor\n",
        "from sklearn.tree import DecisionTreeRegressor\n",
        "from sklearn.datasets import make_regression\n",
        "from sklearn.model_selection import train_test_split\n",
        "from sklearn.metrics import mean_squared_error\n",
        "\n",
        "# Create synthetic dataset\n",
        "X, y = make_regression(n_samples=1000, n_features=10, noise=0.2, random_state=42)\n",
        "\n",
        "# Split into train and test sets\n",
        "X_train, X_test, y_train, y_test = train_test_split(X, y, test_size=0.2, random_state=42)\n",
        "\n",
        "# Train and evaluate Bagging Regressor with different numbers of base estimators\n",
        "for n_estimators in [5, 10, 20, 50]:\n",
        "    # The 'base_estimator' argument has been replaced with 'estimator'\n",
        "    bagging_reg = BaggingRegressor(estimator=DecisionTreeRegressor(), n_estimators=n_estimators, random_state=42)\n",
        "    bagging_reg.fit(X_train, y_train)\n",
        "    y_pred = bagging_reg.predict(X_test)\n",
        "    print(f\"MSE with {n_estimators} estimators:\", mean_squared_error(y_test, y_pred))"
      ],
      "metadata": {
        "colab": {
          "base_uri": "https://localhost:8080/"
        },
        "id": "AlTWBddGEzMs",
        "outputId": "3edbf21c-f6dd-4798-f7ad-70c1c05e36d0"
      },
      "execution_count": 31,
      "outputs": [
        {
          "output_type": "stream",
          "name": "stdout",
          "text": [
            "MSE with 5 estimators: 4023.5638830660623\n",
            "MSE with 10 estimators: 3181.6743862298945\n",
            "MSE with 20 estimators: 2937.774090111561\n",
            "MSE with 50 estimators: 2594.42700538487\n"
          ]
        }
      ]
    },
    {
      "cell_type": "markdown",
      "source": [
        "33.Train a Random Forest Classifier and analyze misclassified samples.\n"
      ],
      "metadata": {
        "id": "hwTa8azO9z3s"
      }
    },
    {
      "cell_type": "code",
      "source": [
        "from sklearn.ensemble import RandomForestClassifier\n",
        "from sklearn.datasets import make_classification\n",
        "from sklearn.model_selection import train_test_split\n",
        "import numpy as np\n",
        "\n",
        "# Create synthetic dataset\n",
        "X, y = make_classification(n_samples=1000, n_features=20, random_state=42)\n",
        "\n",
        "# Split into train and test sets\n",
        "X_train, X_test, y_train, y_test = train_test_split(X, y, test_size=0.2, random_state=42)\n",
        "\n",
        "# Train Random Forest Classifier\n",
        "rf_clf = RandomForestClassifier(n_estimators=100, random_state=42)\n",
        "rf_clf.fit(X_train, y_train)\n",
        "\n",
        "# Identify misclassified samples\n",
        "y_pred = rf_clf.predict(X_test)\n",
        "misclassified_samples = np.where(y_pred != y_test)[0]\n",
        "print(\"Number of misclassified samples:\", len(misclassified_samples))\n"
      ],
      "metadata": {
        "colab": {
          "base_uri": "https://localhost:8080/"
        },
        "id": "BuN6POGnE3TD",
        "outputId": "d57c7390-394a-4c8a-835f-be6ed9de5a57"
      },
      "execution_count": 13,
      "outputs": [
        {
          "output_type": "stream",
          "name": "stdout",
          "text": [
            "Number of misclassified samples: 20\n"
          ]
        }
      ]
    },
    {
      "cell_type": "markdown",
      "source": [
        "34.Train a Bagging Classifier and compare its performance with a single Decision Tree Classifier.\n"
      ],
      "metadata": {
        "id": "RkDlmec19z05"
      }
    },
    {
      "cell_type": "code",
      "source": [
        "from sklearn.ensemble import BaggingClassifier\n",
        "from sklearn.tree import DecisionTreeClassifier\n",
        "from sklearn.datasets import make_classification\n",
        "from sklearn.model_selection import train_test_split\n",
        "from sklearn.metrics import accuracy_score\n",
        "\n",
        "# Create synthetic dataset\n",
        "X, y = make_classification(n_samples=1000, n_features=20, random_state=42)\n",
        "\n",
        "# Split into train and test sets\n",
        "X_train, X_test, y_train, y_test = train_test_split(X, y, test_size=0.2, random_state=42)\n",
        "\n",
        "# Train Decision Tree Classifier\n",
        "dt_clf = DecisionTreeClassifier(random_state=42)\n",
        "dt_clf.fit(X_train, y_train)\n",
        "y_pred_dt = dt_clf.predict(X_test)\n",
        "\n",
        "# Train Bagging Classifier\n",
        "# The 'base_estimator' argument has been replaced with 'estimator'\n",
        "bagging_clf = BaggingClassifier(estimator=DecisionTreeClassifier(), n_estimators=10, random_state=42)\n",
        "bagging_clf.fit(X_train, y_train)\n",
        "y_pred_bagging = bagging_clf.predict(X_test)\n",
        "\n",
        "# Compare accuracies\n",
        "print(\"Decision Tree Accuracy:\", accuracy_score(y_test, y_pred_dt))\n",
        "print(\"Bagging Classifier Accuracy:\", accuracy_score(y_test, y_pred_bagging))"
      ],
      "metadata": {
        "colab": {
          "base_uri": "https://localhost:8080/"
        },
        "id": "4qztOeiUE52C",
        "outputId": "4522cdc8-f28c-45cf-c4fe-24aacfc89c0c"
      },
      "execution_count": 30,
      "outputs": [
        {
          "output_type": "stream",
          "name": "stdout",
          "text": [
            "Decision Tree Accuracy: 0.875\n",
            "Bagging Classifier Accuracy: 0.885\n"
          ]
        }
      ]
    },
    {
      "cell_type": "markdown",
      "source": [
        "35.Train a Random Forest Classifier and visualize the confusion matrix.\n"
      ],
      "metadata": {
        "id": "pXwtzvAI9zyH"
      }
    },
    {
      "cell_type": "code",
      "source": [
        "from sklearn.ensemble import RandomForestClassifier\n",
        "from sklearn.datasets import make_classification\n",
        "from sklearn.model_selection import train_test_split\n",
        "from sklearn.metrics import confusion_matrix, ConfusionMatrixDisplay\n",
        "import matplotlib.pyplot as plt\n",
        "\n",
        "# Create synthetic dataset\n",
        "X, y = make_classification(n_samples=1000, n_features=20, random_state=42)\n",
        "\n",
        "# Split into train and test sets\n",
        "X_train, X_test, y_train, y_test = train_test_split(X, y, test_size=0.2, random_state=42)\n",
        "\n",
        "# Train Random Forest Classifier\n",
        "rf_clf = RandomForestClassifier(n_estimators=100, random_state=42)\n",
        "rf_clf.fit(X_train, y_train)\n",
        "\n",
        "# Predict and plot confusion matrix\n",
        "y_pred = rf_clf.predict(X_test)\n",
        "cm = confusion_matrix(y_test, y_pred)\n",
        "disp = ConfusionMatrixDisplay(confusion_matrix=cm)\n",
        "disp.plot()\n",
        "plt.show()\n"
      ],
      "metadata": {
        "colab": {
          "base_uri": "https://localhost:8080/",
          "height": 449
        },
        "id": "kr2SmItrFAuZ",
        "outputId": "35aa6f0c-dd92-4d71-f82b-e20f50d87b34"
      },
      "execution_count": 15,
      "outputs": [
        {
          "output_type": "display_data",
          "data": {
            "text/plain": [
              "<Figure size 640x480 with 2 Axes>"
            ],
            "image/png": "[encoded data removed]"
          },
          "metadata": {}
        }
      ]
    },
    {
      "cell_type": "markdown",
      "source": [
        "36.Train a Stacking Classifier using Decision Trees, SVM, and Logistic Regression, and compare accuracy.\n"
      ],
      "metadata": {
        "id": "PthqAqW99zvT"
      }
    },
    {
      "cell_type": "code",
      "source": [
        "from sklearn.ensemble import StackingClassifier\n",
        "from sklearn.linear_model import LogisticRegression\n",
        "from sklearn.svm import SVC\n",
        "from sklearn.tree import DecisionTreeClassifier\n",
        "from sklearn.datasets import make_classification\n",
        "from sklearn.model_selection import train_test_split\n",
        "from sklearn.metrics import accuracy_score\n",
        "\n",
        "# Create synthetic dataset\n",
        "X, y = make_classification(n_samples=1000, n_features=20, random_state=42)\n",
        "\n",
        "# Split into train and test sets\n",
        "X_train, X_test, y_train, y_test = train_test_split(X, y, test_size=0.2, random_state=42)\n",
        "\n",
        "# Define base estimators\n",
        "base_estimators = [\n",
        "    ('dt', DecisionTreeClassifier()),\n",
        "    ('svm', SVC(probability=True))\n",
        "]\n",
        "\n",
        "# Train Stacking Classifier\n",
        "stack_clf = StackingClassifier(estimators=base_estimators, final_estimator=LogisticRegression())\n",
        "stack_clf.fit(X_train, y_train)\n",
        "\n",
        "# Predict and compute accuracy\n",
        "y_pred = stack_clf.predict(X_test)\n",
        "print(\"Stacking Classifier Accuracy:\", accuracy_score(y_test, y_pred))\n"
      ],
      "metadata": {
        "colab": {
          "base_uri": "https://localhost:8080/"
        },
        "id": "dn1VTzNpFEQ4",
        "outputId": "57eca30e-eb23-49f6-c8bc-db543590932e"
      },
      "execution_count": 16,
      "outputs": [
        {
          "output_type": "stream",
          "name": "stdout",
          "text": [
            "Stacking Classifier Accuracy: 0.87\n"
          ]
        }
      ]
    },
    {
      "cell_type": "markdown",
      "source": [
        "37.Train a Random Forest Classifier and print the top 5 most important features.\n"
      ],
      "metadata": {
        "id": "0dDC6ifz9zsx"
      }
    },
    {
      "cell_type": "code",
      "source": [
        "from sklearn.ensemble import RandomForestClassifier\n",
        "from sklearn.datasets import make_classification\n",
        "import pandas as pd\n",
        "\n",
        "# Create synthetic dataset\n",
        "X, y = make_classification(n_samples=1000, n_features=20, random_state=42)\n",
        "\n",
        "# Train Random Forest Classifier\n",
        "rf_clf = RandomForestClassifier(n_estimators=100, random_state=42)\n",
        "rf_clf.fit(X, y)\n",
        "\n",
        "# Print top 5 most important features\n",
        "feature_importances = pd.Series(rf_clf.feature_importances_).sort_values(ascending=False)\n",
        "print(\"Top 5 most important features:\\n\", feature_importances.head(5))\n"
      ],
      "metadata": {
        "colab": {
          "base_uri": "https://localhost:8080/"
        },
        "id": "ppJccXQGFGks",
        "outputId": "dae1a70d-0a9e-4244-eada-9c428faa895b"
      },
      "execution_count": 17,
      "outputs": [
        {
          "output_type": "stream",
          "name": "stdout",
          "text": [
            "Top 5 most important features:\n",
            " 5     0.322934\n",
            "18    0.207074\n",
            "1     0.095728\n",
            "14    0.082296\n",
            "11    0.029221\n",
            "dtype: float64\n"
          ]
        }
      ]
    },
    {
      "cell_type": "markdown",
      "source": [
        "38.Train a Bagging Classifier and evaluate performance using Precision, Recall, and F1-score.\n"
      ],
      "metadata": {
        "id": "4yW7jwR79zpv"
      }
    },
    {
      "cell_type": "code",
      "source": [
        "from sklearn.ensemble import BaggingClassifier\n",
        "from sklearn.tree import DecisionTreeClassifier\n",
        "from sklearn.datasets import make_classification\n",
        "from sklearn.model_selection import train_test_split\n",
        "from sklearn.metrics import precision_score, recall_score, f1_score\n",
        "\n",
        "# Create synthetic dataset\n",
        "X, y = make_classification(n_samples=1000, n_features=20, random_state=42)\n",
        "\n",
        "# Split into train and test sets\n",
        "X_train, X_test, y_train, y_test = train_test_split(X, y, test_size=0.2, random_state=42)\n",
        "\n",
        "# Train Bagging Classifier\n",
        "# The 'base_estimator' argument has been replaced with 'estimator'\n",
        "bagging_clf = BaggingClassifier(estimator=DecisionTreeClassifier(), n_estimators=10, random_state=42)\n",
        "bagging_clf.fit(X_train, y_train)\n",
        "\n",
        "# Predict and compute metrics\n",
        "y_pred = bagging_clf.predict(X_test)\n",
        "print(\"Precision:\", precision_score(y_test, y_pred))\n",
        "print(\"Recall:\", recall_score(y_test, y_pred))\n",
        "print(\"F1-score:\", f1_score(y_test, y_pred))"
      ],
      "metadata": {
        "colab": {
          "base_uri": "https://localhost:8080/"
        },
        "id": "f_ByaLDgFI1x",
        "outputId": "4f56415d-41e5-4960-e989-5fd08ed43fe0"
      },
      "execution_count": 29,
      "outputs": [
        {
          "output_type": "stream",
          "name": "stdout",
          "text": [
            "Precision: 0.9565217391304348\n",
            "Recall: 0.822429906542056\n",
            "F1-score: 0.8844221105527639\n"
          ]
        }
      ]
    },
    {
      "cell_type": "markdown",
      "source": [
        "39.Train a Random Forest Classifier and analyze the effect of max_depth on accuracy.\n"
      ],
      "metadata": {
        "id": "bCenDULd9znS"
      }
    },
    {
      "cell_type": "code",
      "source": [
        "from sklearn.ensemble import RandomForestClassifier\n",
        "from sklearn.datasets import make_classification\n",
        "from sklearn.model_selection import train_test_split\n",
        "from sklearn.metrics import accuracy_score\n",
        "\n",
        "# Create synthetic dataset\n",
        "X, y = make_classification(n_samples=1000, n_features=20, random_state=42)\n",
        "\n",
        "# Split into train and test sets\n",
        "X_train, X_test, y_train, y_test = train_test_split(X, y, test_size=0.2, random_state=42)\n",
        "\n",
        "# Train and evaluate Random Forest with different max_depth values\n",
        "for depth in [5, 10, 20, None]:\n",
        "    rf_clf = RandomForestClassifier(n_estimators=100, max_depth=depth, random_state=42)\n",
        "    rf_clf.fit(X_train, y_train)\n",
        "    y_pred = rf_clf.predict(X_test)\n",
        "    print(f\"Accuracy with max_depth={depth}:\", accuracy_score(y_test, y_pred))\n"
      ],
      "metadata": {
        "colab": {
          "base_uri": "https://localhost:8080/"
        },
        "id": "d8MKaHtzFN-D",
        "outputId": "532bfb30-5d0f-4412-bdbc-56fb9273ea56"
      },
      "execution_count": 19,
      "outputs": [
        {
          "output_type": "stream",
          "name": "stdout",
          "text": [
            "Accuracy with max_depth=5: 0.88\n",
            "Accuracy with max_depth=10: 0.885\n",
            "Accuracy with max_depth=20: 0.9\n",
            "Accuracy with max_depth=None: 0.9\n"
          ]
        }
      ]
    },
    {
      "cell_type": "markdown",
      "source": [
        "40.Train a Bagging Regressor using different base estimators (DecisionTree and KNeighbors) and compare performance.\n"
      ],
      "metadata": {
        "id": "a6zq41Xb9zkX"
      }
    },
    {
      "cell_type": "code",
      "source": [
        "from sklearn.ensemble import BaggingRegressor\n",
        "from sklearn.tree import DecisionTreeRegressor\n",
        "from sklearn.neighbors import KNeighborsRegressor\n",
        "from sklearn.datasets import make_regression\n",
        "from sklearn.model_selection import train_test_split\n",
        "from sklearn.metrics import mean_squared_error\n",
        "\n",
        "# Create synthetic dataset\n",
        "X, y = make_regression(n_samples=1000, n_features=10, noise=0.2, random_state=42)\n",
        "\n",
        "# Split into train and test sets\n",
        "X_train, X_test, y_train, y_test = train_test_split(X, y, test_size=0.2, random_state=42)\n",
        "\n",
        "# Train and evaluate Bagging Regressors with different base estimators\n",
        "for base_estimator in [DecisionTreeRegressor(), KNeighborsRegressor()]:\n",
        "    # The 'base_estimator' argument has been replaced with 'estimator'\n",
        "    bagging_reg = BaggingRegressor(estimator=base_estimator, n_estimators=10, random_state=42)\n",
        "    bagging_reg.fit(X_train, y_train)\n",
        "    y_pred = bagging_reg.predict(X_test)\n",
        "    print(f\"MSE with {base_estimator.__class__.__name__}:\", mean_squared_error(y_test, y_pred))"
      ],
      "metadata": {
        "colab": {
          "base_uri": "https://localhost:8080/"
        },
        "id": "7zkOQkp6FQxV",
        "outputId": "82e7a5ce-901d-4011-cb45-a0bf1a8d83c7"
      },
      "execution_count": 28,
      "outputs": [
        {
          "output_type": "stream",
          "name": "stdout",
          "text": [
            "MSE with DecisionTreeRegressor: 3181.6743862298945\n",
            "MSE with KNeighborsRegressor: 3581.2345261433843\n"
          ]
        }
      ]
    },
    {
      "cell_type": "markdown",
      "source": [
        "41.Train a Random Forest Classifier and evaluate its performance using ROC-AUC Score.\n"
      ],
      "metadata": {
        "id": "JX6MPa749zhr"
      }
    },
    {
      "cell_type": "code",
      "source": [
        "from sklearn.ensemble import RandomForestClassifier\n",
        "from sklearn.datasets import make_classification\n",
        "from sklearn.model_selection import train_test_split\n",
        "from sklearn.metrics import roc_auc_score\n",
        "\n",
        "# Create synthetic dataset\n",
        "X, y = make_classification(n_samples=1000, n_features=20, random_state=42)\n",
        "\n",
        "# Split into train and test sets\n",
        "X_train, X_test, y_train, y_test = train_test_split(X, y, test_size=0.2, random_state=42)\n",
        "\n",
        "# Train Random Forest Classifier\n",
        "rf_clf = RandomForestClassifier(n_estimators=100, random_state=42)\n",
        "rf_clf.fit(X_train, y_train)\n",
        "\n",
        "# Predict probabilities and compute ROC-AUC score\n",
        "y_prob = rf_clf.predict_proba(X_test)[:, 1]\n",
        "print(\"ROC-AUC Score:\", roc_auc_score(y_test, y_prob))\n"
      ],
      "metadata": {
        "colab": {
          "base_uri": "https://localhost:8080/"
        },
        "id": "uOcnGL2EFSzL",
        "outputId": "b643b034-af23-4f79-f4aa-a6333955a082"
      },
      "execution_count": 21,
      "outputs": [
        {
          "output_type": "stream",
          "name": "stdout",
          "text": [
            "ROC-AUC Score: 0.9379459350819013\n"
          ]
        }
      ]
    },
    {
      "cell_type": "markdown",
      "source": [
        "42.Train a Bagging Classifier and evaluate its performance using cross-validatio.\n"
      ],
      "metadata": {
        "id": "IaKgv8Co9zeM"
      }
    },
    {
      "cell_type": "code",
      "source": [
        "from sklearn.ensemble import BaggingClassifier\n",
        "from sklearn.tree import DecisionTreeClassifier\n",
        "from sklearn.datasets import make_classification\n",
        "from sklearn.model_selection import cross_val_score\n",
        "\n",
        "# Create synthetic dataset\n",
        "X, y = make_classification(n_samples=1000, n_features=20, random_state=42)\n",
        "\n",
        "# Train Bagging Classifier with cross-validation\n",
        "# The 'base_estimator' argument has been replaced with 'estimator'\n",
        "bagging_clf = BaggingClassifier(estimator=DecisionTreeClassifier(), n_estimators=10, random_state=42)\n",
        "scores = cross_val_score(bagging_clf, X, y, cv=5)\n",
        "\n",
        "# Print average accuracy\n",
        "print(\"Cross-validation Accuracy:\", scores.mean())"
      ],
      "metadata": {
        "colab": {
          "base_uri": "https://localhost:8080/"
        },
        "id": "-M5wLgAoFVrm",
        "outputId": "78dde224-e024-41ce-c84b-417179bef251"
      },
      "execution_count": 27,
      "outputs": [
        {
          "output_type": "stream",
          "name": "stdout",
          "text": [
            "Cross-validation Accuracy: 0.9\n"
          ]
        }
      ]
    },
    {
      "cell_type": "markdown",
      "source": [
        "43.Train a Random Forest Classifier and plot the Precision-Recall curv.\n",
        "44.Train a Stacking Classifier with Random Forest and Logistic Regression and compare accuracy.\n",
        "45.Train a Bagging Regressor with different levels of bootstrap samples and compare performance."
      ],
      "metadata": {
        "id": "81NDzxQXBJ88"
      }
    },
    {
      "cell_type": "code",
      "source": [
        "from sklearn.ensemble import RandomForestClassifier\n",
        "from sklearn.datasets import make_classification\n",
        "from sklearn.model_selection import train_test_split\n",
        "from sklearn.metrics import precision_recall_curve, PrecisionRecallDisplay\n",
        "import matplotlib.pyplot as plt\n",
        "\n",
        "# Create synthetic dataset\n",
        "X, y = make_classification(n_samples=1000, n_features=20, random_state=42)\n",
        "\n",
        "# Split into train and test sets\n",
        "X_train, X_test, y_train, y_test = train_test_split(X, y, test_size=0.2, random_state=42)\n",
        "\n",
        "# Train Random Forest Classifier\n",
        "rf_clf = RandomForestClassifier(n_estimators=100, random_state=42)\n",
        "rf_clf.fit(X_train, y_train)\n",
        "\n",
        "# Predict probabilities and plot Precision-Recall curve\n",
        "y_prob = rf_clf.predict_proba(X_test)[:, 1]\n",
        "precision, recall, _ = precision_recall_curve(y_test, y_prob)\n",
        "disp = PrecisionRecallDisplay(precision=precision, recall=recall)\n",
        "disp.plot()\n",
        "plt.show()\n"
      ],
      "metadata": {
        "colab": {
          "base_uri": "https://localhost:8080/",
          "height": 451
        },
        "id": "llcvjkVGFXzS",
        "outputId": "64429efb-94f5-4691-9ec0-f197e211acb6"
      },
      "execution_count": 23,
      "outputs": [
        {
          "output_type": "display_data",
          "data": {
            "text/plain": [
              "<Figure size 640x480 with 1 Axes>"
            ],
            "image/png": "[encoded data removed]"
          },
          "metadata": {}
        }
      ]
    },
    {
      "cell_type": "markdown",
      "source": [
        "44.Train a Stacking Classifier with Random Forest and Logistic Regression and compare accuracy.\n"
      ],
      "metadata": {
        "id": "BKLvBDfzBNLR"
      }
    },
    {
      "cell_type": "code",
      "source": [
        "from sklearn.ensemble import StackingClassifier\n",
        "from sklearn.linear_model import LogisticRegression\n",
        "from sklearn.ensemble import RandomForestClassifier\n",
        "from sklearn.datasets import make_classification\n",
        "from sklearn.model_selection import train_test_split\n",
        "from sklearn.metrics import accuracy_score\n",
        "\n",
        "# Create synthetic dataset\n",
        "X, y = make_classification(n_samples=1000, n_features=20, random_state=42)\n",
        "\n",
        "# Split into train and test sets\n",
        "X_train, X_test, y_train, y_test = train_test_split(X, y, test_size=0.2, random_state=42)\n",
        "\n",
        "# Define base estimators\n",
        "base_estimators = [\n",
        "    ('rf', RandomForestClassifier(n_estimators=50, random_state=42))\n",
        "]\n",
        "\n",
        "# Train Stacking Classifier\n",
        "stack_clf = StackingClassifier(estimators=base_estimators, final_estimator=LogisticRegression())\n",
        "stack_clf.fit(X_train, y_train)\n",
        "\n",
        "# Predict and compute accuracy\n",
        "y_pred = stack_clf.predict(X_test)\n",
        "print(\"Stacking Classifier Accuracy:\", accuracy_score(y_test, y_pred))\n"
      ],
      "metadata": {
        "colab": {
          "base_uri": "https://localhost:8080/"
        },
        "id": "yJw3LTLMFaA4",
        "outputId": "5d58e8f0-397b-495c-f9b4-e50c943a9298"
      },
      "execution_count": 24,
      "outputs": [
        {
          "output_type": "stream",
          "name": "stdout",
          "text": [
            "Stacking Classifier Accuracy: 0.895\n"
          ]
        }
      ]
    },
    {
      "cell_type": "markdown",
      "source": [
        "45.Train a Bagging Regressor with different levels of bootstrap samples and compare performance."
      ],
      "metadata": {
        "id": "gpdDHtyvBNrE"
      }
    },
    {
      "cell_type": "code",
      "source": [
        "from sklearn.ensemble import BaggingRegressor\n",
        "from sklearn.tree import DecisionTreeRegressor\n",
        "from sklearn.datasets import make_regression\n",
        "from sklearn.model_selection import train_test_split\n",
        "from sklearn.metrics import mean_squared_error\n",
        "\n",
        "# Create synthetic dataset\n",
        "X, y = make_regression(n_samples=1000, n_features=10, noise=0.2, random_state=42)\n",
        "\n",
        "# Split into train and test sets\n",
        "X_train, X_test, y_train, y_test = train_test_split(X, y, test_size=0.2, random_state=42)\n",
        "\n",
        "# Train and evaluate Bagging Regressor with different bootstrap sample sizes\n",
        "for bootstrap_samples in [0.5, 0.7, 1.0]:  # Proportion of training set used in each bootstrap sample\n",
        "    # The 'base_estimator' argument has been replaced with 'estimator'\n",
        "    bagging_reg = BaggingRegressor(estimator=DecisionTreeRegressor(), n_estimators=10,\n",
        "                                   max_samples=bootstrap_samples, random_state=42)\n",
        "    bagging_reg.fit(X_train, y_train)\n",
        "    y_pred = bagging_reg.predict(X_test)\n",
        "    print(f\"MSE with {bootstrap_samples*100}% bootstrap samples:\", mean_squared_error(y_test, y_pred))"
      ],
      "metadata": {
        "colab": {
          "base_uri": "https://localhost:8080/"
        },
        "id": "HSPsiFvQFczP",
        "outputId": "e2f77f56-a0e9-4089-cf51-5131f8fd8608"
      },
      "execution_count": 26,
      "outputs": [
        {
          "output_type": "stream",
          "name": "stdout",
          "text": [
            "MSE with 50.0% bootstrap samples: 3196.837141219787\n",
            "MSE with 70.0% bootstrap samples: 3323.423822544224\n",
            "MSE with 100.0% bootstrap samples: 3181.6743862298945\n"
          ]
        }
      ]
    },
    {
      "cell_type": "code",
      "source": [],
      "metadata": {
        "id": "O88VHpxOFdSF"
      },
      "execution_count": null,
      "outputs": []
    }
  ]
}
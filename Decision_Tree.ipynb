{
  "nbformat": 4,
  "nbformat_minor": 0,
  "metadata": {
    "colab": {
      "provenance": []
    },
    "kernelspec": {
      "name": "python3",
      "display_name": "Python 3"
    },
    "language_info": {
      "name": "python"
    }
  },
  "cells": [
    {
      "cell_type": "markdown",
      "source": [
        "##Theortical"
      ],
      "metadata": {
        "id": "12-E7O0J5fE8"
      }
    },
    {
      "cell_type": "markdown",
      "source": [
        "1.What is a Decision Tree, and how does it work?\n"
      ],
      "metadata": {
        "id": "cEMoY015gsP0"
      }
    },
    {
      "cell_type": "code",
      "source": [
        "'''A Decision Tree is a supervised learning algorithm used for classification and regression tasks. It is structured like a tree, where:\n",
        "\n",
        "Each internal node represents a decision based on a feature.\n",
        "Each branch represents an outcome of the decision.\n",
        "Each leaf node represents a class label (classification) or a predicted value (regression).\n",
        "The algorithm works by recursively splitting the dataset based on feature values to create the most homogeneous subsets, using measures like Gini Impurity or Entropy.'''"
      ],
      "metadata": {
        "id": "EQN_pRpBieTa"
      },
      "execution_count": null,
      "outputs": []
    },
    {
      "cell_type": "markdown",
      "source": [
        "2.What are impurity measures in Decision Trees?\n"
      ],
      "metadata": {
        "id": "9Fo1p31mhSON"
      }
    },
    {
      "cell_type": "code",
      "source": [
        "'''Impurity measures quantify how mixed or pure a dataset is at a node. Common impurity measures include:\n",
        "\n",
        "Gini Impurity: Measures the probability of misclassification.\n",
        "Entropy: Measures the level of disorder in the dataset.\n",
        "A node is considered pure if it contains only instances of a single class.\n",
        "\n",
        "'''"
      ],
      "metadata": {
        "id": "ub9jPJefih74"
      },
      "execution_count": null,
      "outputs": []
    },
    {
      "cell_type": "markdown",
      "source": [
        "3.What is the mathematical formula for Gini Impurity?\n"
      ],
      "metadata": {
        "id": "-0jTjgJChaCh"
      }
    },
    {
      "cell_type": "code",
      "source": [
        "'''Gini = 1− i=1 ∑n pi^2\n",
        "​\n",
        "where pi is the probability of class 𝑖 in the node.'''"
      ],
      "metadata": {
        "id": "gFkJw8mVilyr"
      },
      "execution_count": null,
      "outputs": []
    },
    {
      "cell_type": "markdown",
      "source": [
        "4.What is the mathematical formula for Entropy?\n"
      ],
      "metadata": {
        "id": "fz_BLPgahbP6"
      }
    },
    {
      "cell_type": "code",
      "source": [
        "'''The mathematical formula for Entropy is:\n",
        "\n",
        "Entropy = − i=1∑n pi log2 pi\n",
        "​\n",
        "where:\n",
        "n = total number of classes in the dataset.\n",
        "pi = probability of class i in the node.'''"
      ],
      "metadata": {
        "id": "Y7slUKaGlq22"
      },
      "execution_count": null,
      "outputs": []
    },
    {
      "cell_type": "markdown",
      "source": [
        "5.What is Information Gain, and how is it used in Decision Trees?\n"
      ],
      "metadata": {
        "id": "WUHNSk6OhbMd"
      }
    },
    {
      "cell_type": "code",
      "source": [
        "'''Information Gain (IG) measures how much uncertainty (entropy) is reduced after splitting a dataset based on a feature. It is calculated as:\n",
        "\n",
        "IG=Entropy(Parent)− i∑( ∣Subseti| / ∣Parent∣ × Entropy(Subseti))\n",
        "Higher information gain means a better split, and decision trees aim to maximize it while choosing the best split.\n",
        "\n",
        "'''"
      ],
      "metadata": {
        "id": "3RxUSwBNi0t1"
      },
      "execution_count": null,
      "outputs": []
    },
    {
      "cell_type": "markdown",
      "source": [
        "6.What is the difference between Gini Impurity and Entropy?\n"
      ],
      "metadata": {
        "id": "FFpqevo3hbJ8"
      }
    },
    {
      "cell_type": "code",
      "source": [
        "'''1. Gini Impurity\n",
        "Measures the probability of incorrectly classifying a randomly chosen element from the dataset.\n",
        "A lower Gini value means a purer node.\n",
        "\n",
        "Characteristics:\n",
        "Faster to compute (no logarithms involved).\n",
        "Preferred in CART (Classification and Regression Trees).\n",
        "Tends to create larger splits (favors dominant classes).\n",
        "\n",
        "2. Entropy\n",
        "Measures the amount of uncertainty or disorder in the dataset.\n",
        "A lower entropy means less disorder (more purity).\n",
        "\n",
        "Characteristics:\n",
        "More theoretically justified (based on information theory).\n",
        "Preferred in ID3, C4.5 algorithms.\n",
        "Results in balanced splits (more evenly distributed branches).\n",
        "'''"
      ],
      "metadata": {
        "id": "FNOcjR26lQGY"
      },
      "execution_count": null,
      "outputs": []
    },
    {
      "cell_type": "markdown",
      "source": [
        "7.What is the mathematical explanation behind Decision Trees?\n"
      ],
      "metadata": {
        "id": "tKJPur6uhbHh"
      }
    },
    {
      "cell_type": "code",
      "source": [
        "'''Mathematically, a Decision Tree works by:\n",
        "\n",
        "Finding the best feature to split on, maximizing Information Gain or minimizing impurity.\n",
        "Splitting the dataset recursively until a stopping criterion is met.\n",
        "Assigning class labels or values to leaf nodes.\n",
        "Each split follows:\n",
        "\n",
        "Split Criterion= i∑(∣Subseti| / ∣Parent∣ ×Impurity(Subseti))\n",
        "The tree is built using algorithms like ID3, C4.5, or CART.'''"
      ],
      "metadata": {
        "id": "ctjTo-ybjjQP"
      },
      "execution_count": null,
      "outputs": []
    },
    {
      "cell_type": "markdown",
      "source": [
        "8.What is Pre-Pruning in Decision Trees?\n"
      ],
      "metadata": {
        "id": "V4S4XgimhbEv"
      }
    },
    {
      "cell_type": "code",
      "source": [
        "'''Pre-Pruning stops tree growth early to prevent overfitting by setting conditions such as:\n",
        "\n",
        "Minimum number of samples per node.\n",
        "Maximum tree depth.\n",
        "Minimum information gain for a split.\n",
        "It avoids creating an overly complex tree but may cause underfitting.'''"
      ],
      "metadata": {
        "id": "B5Ad6Pn-kDdh"
      },
      "execution_count": null,
      "outputs": []
    },
    {
      "cell_type": "markdown",
      "source": [
        "9.What is Post-Pruning in Decision Trees?\n"
      ],
      "metadata": {
        "id": "voOj8tZdhbCI"
      }
    },
    {
      "cell_type": "code",
      "source": [
        "'''Post-Pruning grows the tree fully and then removes branches that do not improve generalization, using:\n",
        "\n",
        "Reduced error pruning: Removes nodes if accuracy does not decrease.\n",
        "Cost-complexity pruning: Balances tree complexity and performance.\n",
        "It reduces overfitting but requires additional validation.'''"
      ],
      "metadata": {
        "id": "N8SIVNDOkLLW"
      },
      "execution_count": null,
      "outputs": []
    },
    {
      "cell_type": "markdown",
      "source": [
        "10.What is the difference between Pre-Pruning and Post-Pruning?\n"
      ],
      "metadata": {
        "id": "PJwNuJ7Cha_k"
      }
    },
    {
      "cell_type": "code",
      "source": [
        "'''Pre-Pruning and Post-Pruning are techniques used in Decision Trees to prevent overfitting and improve model generalization.\n",
        "\n",
        "Pre-Pruning (Early Stopping)\n",
        "Definition: Pre-pruning stops the tree from growing beyond a certain limit by applying constraints before fully building the tree.\n",
        "Methods: Limits can be set on tree depth, minimum samples per split, minimum information gain, or maximum number of leaf nodes.\n",
        "Advantages: Reduces overfitting, makes the model simpler and faster.\n",
        "Disadvantages: May lead to underfitting if the tree is stopped too early.\n",
        "Post-Pruning (Simplification After Growth)\n",
        "Definition: Post-pruning allows the tree to grow fully and then removes branches that do not contribute significantly to model accuracy.\n",
        "Methods: Uses techniques like cost-complexity pruning (CART) or reduced error pruning (ID3, C4.5).\n",
        "Advantages: Leads to a more optimal tree structure and improves generalization.\n",
        "Disadvantages: Computationally expensive, as it requires validation on a separate dataset to decide which branches to remove.'''"
      ],
      "metadata": {
        "id": "yR-fq4aAlCiJ"
      },
      "execution_count": null,
      "outputs": []
    },
    {
      "cell_type": "markdown",
      "source": [
        "11.What is a Decision Tree Regressor?\n"
      ],
      "metadata": {
        "id": "qZjAkVeUha8u"
      }
    },
    {
      "cell_type": "code",
      "source": [
        "'''A Decision Tree Regressor predicts continuous values instead of classes. It works by:\n",
        "\n",
        "Splitting data based on features.\n",
        "Assigning the mean value of the target variable in each leaf node.\n",
        "It minimizes the Mean Squared Error (MSE) or Mean Absolute Error (MAE).'''"
      ],
      "metadata": {
        "id": "tskNWnZmkPo6"
      },
      "execution_count": null,
      "outputs": []
    },
    {
      "cell_type": "markdown",
      "source": [
        "12.What are the advantages and disadvantages of Decision Trees?\n"
      ],
      "metadata": {
        "id": "IiEaz5JTha53"
      }
    },
    {
      "cell_type": "code",
      "source": [
        "'''Advantages:\n",
        "Easy to understand and interpret.\n",
        "Works for both classification and regression.\n",
        "Handles both numerical and categorical data.\n",
        "Requires minimal data preprocessing.\n",
        "\n",
        "Disadvantages:\n",
        "Prone to overfitting (if deep).\n",
        "Unstable (small changes in data may change the tree).\n",
        "Biased towards dominant classes (if imbalanced data).'''"
      ],
      "metadata": {
        "id": "mIMiibsbkTXJ"
      },
      "execution_count": null,
      "outputs": []
    },
    {
      "cell_type": "markdown",
      "source": [
        "13.How does a Decision Tree handle missing values?\n"
      ],
      "metadata": {
        "id": "wdXD3jcZha3c"
      }
    },
    {
      "cell_type": "code",
      "source": [
        "'''Imputation: Replaces missing values with mean, median, or mode.\n",
        "Surrogate splits: Finds an alternative splitting feature.\n",
        "Ignoring missing values: Skips missing values during splits.\n",
        "Many implementations like sklearn's DecisionTreeClassifier can handle missing values.'''"
      ],
      "metadata": {
        "id": "ApEPDPuHkpAF"
      },
      "execution_count": null,
      "outputs": []
    },
    {
      "cell_type": "markdown",
      "source": [
        "14.How does a Decision Tree handle categorical features?\n"
      ],
      "metadata": {
        "id": "uD0aR0NEha0k"
      }
    },
    {
      "cell_type": "code",
      "source": [
        "'''One-Hot Encoding: Converts categorical variables into binary vectors.\n",
        "Label Encoding: Assigns numerical labels to categories.\n",
        "Using categorical splits: Some tree algorithms (like C4.5) split based on categorical values directly.\n",
        "'''"
      ],
      "metadata": {
        "id": "t6wDYfSYksE4"
      },
      "execution_count": null,
      "outputs": []
    },
    {
      "cell_type": "markdown",
      "source": [
        "15.What are some real-world applications of Decision Trees?"
      ],
      "metadata": {
        "id": "LfjDqwathax5"
      }
    },
    {
      "cell_type": "code",
      "source": [
        "'''Medical Diagnosis: Predicting diseases based on symptoms.\n",
        "Fraud Detection: Identifying fraudulent transactions.\n",
        "Customer Churn Prediction: Analyzing customer behavior to predict attrition.\n",
        "Finance: Credit scoring and risk assessment.\n",
        "Marketing: Segmenting customers based on buying behavior.\n",
        "Decision Trees are widely used due to their interpretability and effectiveness.'''"
      ],
      "metadata": {
        "id": "GnRpxDmYkvJ_"
      },
      "execution_count": null,
      "outputs": []
    },
    {
      "cell_type": "markdown",
      "source": [
        "##Practical"
      ],
      "metadata": {
        "id": "DrNNxpgOhasD"
      }
    },
    {
      "cell_type": "markdown",
      "source": [
        "16.Write a Python program to train a Decision Tree Classifier on the Iris dataset and print the model accuracy?\n"
      ],
      "metadata": {
        "id": "NAX5Fq4shapH"
      }
    },
    {
      "cell_type": "code",
      "source": [
        "from sklearn.datasets import load_iris\n",
        "from sklearn.tree import DecisionTreeClassifier\n",
        "from sklearn.model_selection import train_test_split\n",
        "from sklearn.metrics import accuracy_score\n",
        "\n",
        "# Load dataset\n",
        "iris = load_iris()\n",
        "X, y = iris.data, iris.target\n",
        "\n",
        "# Split dataset\n",
        "X_train, X_test, y_train, y_test = train_test_split(X, y, test_size=0.2, random_state=42)\n",
        "\n",
        "# Train model\n",
        "clf = DecisionTreeClassifier()\n",
        "clf.fit(X_train, y_train)\n",
        "\n",
        "# Predict and evaluate\n",
        "y_pred = clf.predict(X_test)\n",
        "accuracy = accuracy_score(y_test, y_pred)\n",
        "\n",
        "print(f\"Model Accuracy: {accuracy:.2f}\")\n"
      ],
      "metadata": {
        "colab": {
          "base_uri": "https://localhost:8080/"
        },
        "id": "0nvaS6VvpeOy",
        "outputId": "a44b7b95-0a0a-4bd3-92a1-498eba510ad7"
      },
      "execution_count": null,
      "outputs": [
        {
          "output_type": "stream",
          "name": "stdout",
          "text": [
            "Model Accuracy: 1.00\n"
          ]
        }
      ]
    },
    {
      "cell_type": "markdown",
      "source": [
        "17.Write a Python program to train a Decision Tree Classifier using Gini Impurity as the criterion and print the feature importances?\n"
      ],
      "metadata": {
        "id": "Z2l1gbEtnWbB"
      }
    },
    {
      "cell_type": "code",
      "source": [
        "clf_gini = DecisionTreeClassifier(criterion=\"gini\", random_state=42)\n",
        "clf_gini.fit(X_train, y_train)\n",
        "\n",
        "print(\"Feature Importances:\")\n",
        "for feature, importance in zip(iris.feature_names, clf_gini.feature_importances_):\n",
        "    print(f\"{feature}: {importance:.4f}\")\n"
      ],
      "metadata": {
        "colab": {
          "base_uri": "https://localhost:8080/"
        },
        "id": "n9ysOLkNphGU",
        "outputId": "cbb826ad-f599-48a8-ba39-1205aaaac2fb"
      },
      "execution_count": null,
      "outputs": [
        {
          "output_type": "stream",
          "name": "stdout",
          "text": [
            "Feature Importances:\n",
            "sepal length (cm): 0.0000\n",
            "sepal width (cm): 0.0167\n",
            "petal length (cm): 0.9061\n",
            "petal width (cm): 0.0772\n"
          ]
        }
      ]
    },
    {
      "cell_type": "markdown",
      "source": [
        "18.Write a Python program to train a Decision Tree Classifier using Entropy as the splitting criterion and print the model accuracy?\n"
      ],
      "metadata": {
        "id": "1eWtJkBxnWXm"
      }
    },
    {
      "cell_type": "code",
      "source": [
        "clf_entropy = DecisionTreeClassifier(criterion=\"entropy\", random_state=42)\n",
        "clf_entropy.fit(X_train, y_train)\n",
        "\n",
        "y_pred_entropy = clf_entropy.predict(X_test)\n",
        "accuracy_entropy = accuracy_score(y_test, y_pred_entropy)\n",
        "\n",
        "print(f\"Model Accuracy (Entropy Criterion): {accuracy_entropy:.2f}\")\n"
      ],
      "metadata": {
        "colab": {
          "base_uri": "https://localhost:8080/"
        },
        "id": "HXDvae0ypj1X",
        "outputId": "b1fdcdf5-939d-4a39-9170-1b71aea4778a"
      },
      "execution_count": null,
      "outputs": [
        {
          "output_type": "stream",
          "name": "stdout",
          "text": [
            "Model Accuracy (Entropy Criterion): 1.00\n"
          ]
        }
      ]
    },
    {
      "cell_type": "markdown",
      "source": [
        "19.Write a Python program to train a Decision Tree Regressor on a housing dataset and evaluate using Mean Squared Error (MSE).\n"
      ],
      "metadata": {
        "id": "CxrGT4o2nWU8"
      }
    },
    {
      "cell_type": "code",
      "source": [
        "from sklearn.datasets import fetch_california_housing\n",
        "from sklearn.tree import DecisionTreeRegressor\n",
        "from sklearn.metrics import mean_squared_error\n",
        "\n",
        "# Load dataset\n",
        "housing = fetch_california_housing()\n",
        "X, y = housing.data, housing.target\n",
        "\n",
        "# Split dataset\n",
        "X_train, X_test, y_train, y_test = train_test_split(X, y, test_size=0.2, random_state=42)\n",
        "\n",
        "# Train model\n",
        "regressor = DecisionTreeRegressor()\n",
        "regressor.fit(X_train, y_train)\n",
        "\n",
        "# Predict and evaluate\n",
        "y_pred = regressor.predict(X_test)\n",
        "mse = mean_squared_error(y_test, y_pred)\n",
        "\n",
        "print(f\"Mean Squared Error: {mse:.2f}\")\n"
      ],
      "metadata": {
        "colab": {
          "base_uri": "https://localhost:8080/"
        },
        "id": "z9sm5kwYppMU",
        "outputId": "5ad877ad-6d20-433c-d469-df7b6f2ac897"
      },
      "execution_count": null,
      "outputs": [
        {
          "output_type": "stream",
          "name": "stdout",
          "text": [
            "Mean Squared Error: 0.50\n"
          ]
        }
      ]
    },
    {
      "cell_type": "markdown",
      "source": [
        "20.Write a Python program to train a Decision Tree Classifier and visualize the tree using graphviz.\n"
      ],
      "metadata": {
        "id": "mq8nm_lPnWSM"
      }
    },
    {
      "cell_type": "code",
      "source": [
        "from sklearn.tree import export_graphviz\n",
        "import graphviz\n",
        "\n",
        "dot_data = export_graphviz(clf, out_file=None, feature_names=iris.feature_names, class_names=iris.target_names, filled=True)\n",
        "graph = graphviz.Source(dot_data)\n",
        "graph.render(\"decision_tree\")  # Saves as a file\n",
        "graph.view()  # Opens the visualization\n"
      ],
      "metadata": {
        "colab": {
          "base_uri": "https://localhost:8080/",
          "height": 35
        },
        "id": "KPVuR5pspr5f",
        "outputId": "52061061-db7d-403a-9be7-5ccca777c923"
      },
      "execution_count": null,
      "outputs": [
        {
          "output_type": "execute_result",
          "data": {
            "text/plain": [
              "'decision_tree.pdf'"
            ],
            "application/vnd.google.colaboratory.intrinsic+json": {
              "type": "string"
            }
          },
          "metadata": {},
          "execution_count": 5
        }
      ]
    },
    {
      "cell_type": "markdown",
      "source": [
        "21.Write a Python program to train a Decision Tree Classifier with a maximum depth of 3 and compare its accuracy with a fully grown tree.\n"
      ],
      "metadata": {
        "id": "TJE8cp67nWPw"
      }
    },
    {
      "cell_type": "code",
      "source": [
        "regressor_limited = DecisionTreeRegressor(max_depth=3, random_state=42) # Changed to DecisionTreeRegressor\n",
        "regressor_limited.fit(X_train, y_train)\n",
        "\n",
        "# Predictions\n",
        "y_pred_limited = regressor_limited.predict(X_test)  # Using the regressor for predictions\n",
        "y_pred_full = regressor.predict(X_test)  # Assuming 'regressor' is the full DecisionTreeRegressor from the previous cell\n",
        "\n",
        "# Compute R-squared or MSE for evaluation (instead of accuracy)\n",
        "from sklearn.metrics import r2_score\n",
        "r2_limited = r2_score(y_test, y_pred_limited)\n",
        "r2_full = r2_score(y_test, y_pred_full)\n",
        "\n",
        "print(f\"R-squared (Max Depth = 3): {r2_limited:.2f}\")\n",
        "print(f\"R-squared (Fully Grown Tree): {r2_full:.2f}\")"
      ],
      "metadata": {
        "colab": {
          "base_uri": "https://localhost:8080/"
        },
        "id": "aJxwU_d3puqh",
        "outputId": "fbf91450-73a2-4392-e7b9-3e6f3eefd019"
      },
      "execution_count": null,
      "outputs": [
        {
          "output_type": "stream",
          "name": "stdout",
          "text": [
            "R-squared (Max Depth = 3): 0.51\n",
            "R-squared (Fully Grown Tree): 0.62\n"
          ]
        }
      ]
    },
    {
      "cell_type": "markdown",
      "source": [
        "22.Write a Python program to train a Decision Tree Classifier using min_samples_split=5 and compare its accuracy with a default tree.\n"
      ],
      "metadata": {
        "id": "vwfbnAKEnWMx"
      }
    },
    {
      "cell_type": "code",
      "source": [
        "regressor_split5 = DecisionTreeRegressor(min_samples_split=5, random_state=42)\n",
        "regressor_split5.fit(X_train, y_train)\n",
        "\n",
        "# Evaluate using a regression metric like Mean Squared Error (MSE) or R-squared\n",
        "from sklearn.metrics import mean_squared_error, r2_score\n",
        "y_pred_split5 = regressor_split5.predict(X_test)\n",
        "mse_split5 = mean_squared_error(y_test, y_pred_split5)\n",
        "r2_split5 = r2_score(y_test, y_pred_split5)\n",
        "\n",
        "print(f\"Mean Squared Error (Min Samples Split = 5): {mse_split5:.2f}\")\n",
        "print(f\"R-squared (Min Samples Split = 5): {r2_split5:.2f}\")\n",
        "\n",
        "# Compare with the default DecisionTreeRegressor (if you trained one earlier)\n",
        "# Assuming 'regressor' is the default DecisionTreeRegressor\n",
        "y_pred_default = regressor.predict(X_test)\n",
        "mse_default = mean_squared_error(y_test, y_pred_default)\n",
        "r2_default = r2_score(y_test, y_pred_default)\n",
        "\n",
        "print(f\"Mean Squared Error (Default Tree): {mse_default:.2f}\")\n",
        "print(f\"R-squared (Default Tree): {r2_default:.2f}\")"
      ],
      "metadata": {
        "colab": {
          "base_uri": "https://localhost:8080/"
        },
        "id": "488jqxWfpzHX",
        "outputId": "90d07f7d-9e2e-415a-c21e-ca63020b7420"
      },
      "execution_count": null,
      "outputs": [
        {
          "output_type": "stream",
          "name": "stdout",
          "text": [
            "Mean Squared Error (Min Samples Split = 5): 0.48\n",
            "R-squared (Min Samples Split = 5): 0.63\n",
            "Mean Squared Error (Default Tree): 0.50\n",
            "R-squared (Default Tree): 0.62\n"
          ]
        }
      ]
    },
    {
      "cell_type": "markdown",
      "source": [
        "23.Write a Python program to apply feature scaling before training a Decision Tree Classifier and compare its accuracy with unscaled data.\n"
      ],
      "metadata": {
        "id": "0lRu5LfwnWKC"
      }
    },
    {
      "cell_type": "code",
      "source": [
        "from sklearn.tree import DecisionTreeRegressor\n",
        "from sklearn.metrics import mean_squared_error, r2_score # Import r2_score\n",
        "from sklearn.preprocessing import StandardScaler # Import StandardScaler\n",
        "# Scale the features\n",
        "scaler = StandardScaler()\n",
        "X_train_scaled = scaler.fit_transform(X_train)\n",
        "X_test_scaled = scaler.transform(X_test)\n",
        "\n",
        "# Train a Decision Tree on scaled data\n",
        "regressor_scaled = DecisionTreeRegressor(random_state=42) # Changed to DecisionTreeRegressor\n",
        "regressor_scaled.fit(X_train_scaled, y_train)\n",
        "\n",
        "# Predictions\n",
        "y_pred_scaled = regressor_scaled.predict(X_test_scaled)\n",
        "mse_scaled = mean_squared_error(y_test, y_pred_scaled)\n",
        "r2_scaled = r2_score(y_test, y_pred_scaled) # Calculate R-squared\n",
        "\n",
        "# Print R-squared instead of accuracy\n",
        "print(f\"R-squared (With Scaling): {r2_scaled:.2f}\")\n",
        "print(f\"R-squared (Without Scaling): {r2_default:.2f}\") # Assuming r2_default is from previous cell"
      ],
      "metadata": {
        "colab": {
          "base_uri": "https://localhost:8080/"
        },
        "id": "UdRKdYf0p1QR",
        "outputId": "ee4dd7e4-299e-45ab-a1f2-6c1240ed8417"
      },
      "execution_count": null,
      "outputs": [
        {
          "output_type": "stream",
          "name": "stdout",
          "text": [
            "R-squared (With Scaling): 0.62\n",
            "R-squared (Without Scaling): 0.62\n"
          ]
        }
      ]
    },
    {
      "cell_type": "markdown",
      "source": [
        "24.Write a Python program to train a Decision Tree Classifier using One-vs-Rest (OvR) strategy for multiclass classification.\n"
      ],
      "metadata": {
        "id": "uvY07jcunWHI"
      }
    },
    {
      "cell_type": "code",
      "source": [
        "from sklearn.multiclass import OneVsRestClassifier\n",
        "from sklearn.tree import DecisionTreeRegressor\n",
        "from sklearn.metrics import r2_score\n",
        "\n",
        "# Instead of using OneVsRestClassifier, use DecisionTreeRegressor directly\n",
        "# for regression problems. OneVsRestClassifier is for multi-class classification.\n",
        "regressor = DecisionTreeRegressor(random_state=42)\n",
        "regressor.fit(X_train, y_train)\n",
        "\n",
        "# Predictions\n",
        "y_pred = regressor.predict(X_test)\n",
        "\n",
        "# Compute R-squared for evaluation (regression metric)\n",
        "r2 = r2_score(y_test, y_pred)\n",
        "\n",
        "print(f\"R-squared: {r2:.2f}\")"
      ],
      "metadata": {
        "colab": {
          "base_uri": "https://localhost:8080/"
        },
        "id": "x8d90ZDnrYcq",
        "outputId": "0d440b0a-f3ec-44d4-84ed-7d2ff9844e05"
      },
      "execution_count": 25,
      "outputs": [
        {
          "output_type": "stream",
          "name": "stdout",
          "text": [
            "R-squared: 0.62\n"
          ]
        }
      ]
    },
    {
      "cell_type": "markdown",
      "source": [
        "25.Write a Python program to train a Decision Tree Classifier and display the feature importance scores.\n"
      ],
      "metadata": {
        "id": "BC3UNA_2nWEY"
      }
    },
    {
      "cell_type": "code",
      "source": [
        "# Train the classifier\n",
        "# Change DecisionTreeClassifier to DecisionTreeRegressor for continuous targets\n",
        "clf_importance = DecisionTreeRegressor(random_state=42)\n",
        "clf_importance.fit(X_train, y_train)\n",
        "\n",
        "# Print feature importances\n",
        "print(\"Feature Importances:\")\n",
        "for feature, importance in zip(housing.feature_names, clf_importance.feature_importances_):  # Change to housing.feature_names\n",
        "    print(f\"{feature}: {importance:.4f}\")"
      ],
      "metadata": {
        "colab": {
          "base_uri": "https://localhost:8080/"
        },
        "id": "xeNuWQvkrbnN",
        "outputId": "f05a7585-4eee-4c41-fe0c-76c1565a96e1"
      },
      "execution_count": 27,
      "outputs": [
        {
          "output_type": "stream",
          "name": "stdout",
          "text": [
            "Feature Importances:\n",
            "MedInc: 0.5285\n",
            "HouseAge: 0.0519\n",
            "AveRooms: 0.0530\n",
            "AveBedrms: 0.0287\n",
            "Population: 0.0305\n",
            "AveOccup: 0.1308\n",
            "Latitude: 0.0937\n",
            "Longitude: 0.0829\n"
          ]
        }
      ]
    },
    {
      "cell_type": "markdown",
      "source": [
        "26.Write a Python program to train a Decision Tree Regressor with max_depth=5 and compare its performance with an unrestricted tree.\n"
      ],
      "metadata": {
        "id": "wHr24m1znWB7"
      }
    },
    {
      "cell_type": "code",
      "source": [
        "# Train a Decision Tree Regressor with max_depth=5\n",
        "regressor_limited = DecisionTreeRegressor(max_depth=5, random_state=42)\n",
        "regressor_limited.fit(X_train, y_train)\n",
        "\n",
        "# Predictions\n",
        "y_pred_limited = regressor_limited.predict(X_test)\n",
        "\n",
        "# Compute Mean Squared Error (MSE)\n",
        "mse_limited = mean_squared_error(y_test, y_pred_limited)\n",
        "\n",
        "print(f\"MSE (Max Depth = 5): {mse_limited:.2f}\")\n",
        "print(f\"MSE (Unrestricted Tree): {mse:.2f}\")\n"
      ],
      "metadata": {
        "colab": {
          "base_uri": "https://localhost:8080/"
        },
        "id": "0tqim1Gire1G",
        "outputId": "64cba8bd-6ec1-4753-da7f-313252bf2376"
      },
      "execution_count": null,
      "outputs": [
        {
          "output_type": "stream",
          "name": "stdout",
          "text": [
            "MSE (Max Depth = 5): 0.52\n",
            "MSE (Unrestricted Tree): 0.50\n"
          ]
        }
      ]
    },
    {
      "cell_type": "markdown",
      "source": [
        "27.Write a Python program to train a Decision Tree Classifier, apply Cost Complexity Pruning (CCP), and visualize its effect on accuracy.\n"
      ],
      "metadata": {
        "id": "PoKSZVzFnV-8"
      }
    },
    {
      "cell_type": "code",
      "source": [
        "import matplotlib.pyplot as plt\n",
        "from sklearn.tree import DecisionTreeRegressor # Import DecisionTreeRegressor\n",
        "from sklearn.metrics import mean_squared_error # Import mean_squared_error\n",
        "from sklearn.model_selection import train_test_split\n",
        "from sklearn.datasets import fetch_california_housing\n",
        "\n",
        "\n",
        "# Load dataset\n",
        "housing = fetch_california_housing()\n",
        "X, y = housing.data, housing.target\n",
        "\n",
        "# Split dataset\n",
        "X_train, X_test, y_train, y_test = train_test_split(X, y, test_size=0.2, random_state=42)\n",
        "\n",
        "\n",
        "# Create and fit the regressor before using it\n",
        "regressor = DecisionTreeRegressor(random_state=42) # Initialize the DecisionTreeRegressor\n",
        "regressor.fit(X_train, y_train) # Fit the regressor to the training data\n",
        "\n",
        "\n",
        "# Assuming 'regressor' is your trained DecisionTreeRegressor\n",
        "path = regressor.cost_complexity_pruning_path(X_train, y_train)\n",
        "ccp_alphas = path.ccp_alphas\n",
        "\n",
        "mses = [] # Changed to 'mses' to store Mean Squared Errors\n",
        "for alpha in ccp_alphas:\n",
        "    regressor_pruned = DecisionTreeRegressor(ccp_alpha=alpha, random_state=42) # Changed to DecisionTreeRegressor\n",
        "    regressor_pruned.fit(X_train, y_train)\n",
        "    y_pred_pruned = regressor_pruned.predict(X_test) # Predict on test set\n",
        "    mses.append(mean_squared_error(y_test, y_pred_pruned)) # Calculate and store MSE\n",
        "\n",
        "# Plot MSE vs CCP alpha\n",
        "plt.figure(figsize=(8, 5))\n",
        "plt.plot(ccp_alphas, mses, marker=\"o\", linestyle=\"--\") # Changed 'accuracies' to 'mses'\n",
        "plt.xlabel(\"CCP Alpha\")\n",
        "plt.ylabel(\"MSE\")  # Changed 'Accuracy' to 'MSE'\n",
        "plt.title(\"Effect of Cost Complexity Pruning on MSE\") # Changed title\n",
        "plt.show()"
      ],
      "metadata": {
        "id": "fsqP9NobrhXk"
      },
      "execution_count": null,
      "outputs": []
    },
    {
      "cell_type": "markdown",
      "source": [
        "28.Write a Python program to train a Decision Tree Classifier and evaluate its performance using Precision,Recall, and F1-Score.\n"
      ],
      "metadata": {
        "id": "G75YEg-onV74"
      }
    },
    {
      "cell_type": "code",
      "source": [
        "from sklearn.metrics import mean_squared_error, r2_score\n",
        "from sklearn.tree import DecisionTreeRegressor\n",
        "\n",
        "# Load dataset (if not already loaded)\n",
        "from sklearn.datasets import fetch_california_housing\n",
        "housing = fetch_california_housing()\n",
        "X, y = housing.data, housing.target\n",
        "\n",
        "# Split dataset (if not already split)\n",
        "from sklearn.model_selection import train_test_split\n",
        "X_train, X_test, y_train, y_test = train_test_split(X, y, test_size=0.2, random_state=42)\n",
        "\n",
        "# Initialize and fit the regressor\n",
        "regressor = DecisionTreeRegressor(random_state=42)\n",
        "regressor.fit(X_train, y_train)\n",
        "\n",
        "# Calculate predictions\n",
        "y_pred = regressor.predict(X_test)\n",
        "\n",
        "# Compute regression metrics (MSE and R-squared)\n",
        "mse = mean_squared_error(y_test, y_pred)\n",
        "r2 = r2_score(y_test, y_pred)\n",
        "\n",
        "print(f\"Mean Squared Error: {mse:.2f}\")\n",
        "print(f\"R-squared: {r2:.2f}\")"
      ],
      "metadata": {
        "colab": {
          "base_uri": "https://localhost:8080/"
        },
        "id": "CupynZbCrjtv",
        "outputId": "39a049a0-a7f8-438f-e233-277acbd8cb09"
      },
      "execution_count": 5,
      "outputs": [
        {
          "output_type": "stream",
          "name": "stdout",
          "text": [
            "Mean Squared Error: 0.50\n",
            "R-squared: 0.62\n"
          ]
        }
      ]
    },
    {
      "cell_type": "markdown",
      "source": [
        "29.Write a Python program to train a Decision Tree Classifier and visualize the confusion matrix using seaborn.\n"
      ],
      "metadata": {
        "id": "vmqikticnV5X"
      }
    },
    {
      "cell_type": "code",
      "source": [
        "import seaborn as sns\n",
        "import matplotlib.pyplot as plt\n",
        "import numpy as np\n",
        "from sklearn.metrics import mean_squared_error, r2_score  # Import regression metrics\n",
        "from sklearn.tree import DecisionTreeRegressor\n",
        "\n",
        "# Load dataset (if not already loaded)\n",
        "from sklearn.datasets import fetch_california_housing\n",
        "housing = fetch_california_housing()\n",
        "X, y = housing.data, housing.target\n",
        "\n",
        "# Split dataset (if not already split)\n",
        "from sklearn.model_selection import train_test_split\n",
        "X_train, X_test, y_train, y_test = train_test_split(X, y, test_size=0.2, random_state=42)\n",
        "\n",
        "# Initialize and fit the regressor\n",
        "regressor = DecisionTreeRegressor(random_state=42)\n",
        "regressor.fit(X_train, y_train)\n",
        "\n",
        "# Calculate predictions\n",
        "y_pred = regressor.predict(X_test)\n",
        "\n",
        "# Instead of confusion matrix, use regression metrics like MSE and R-squared\n",
        "mse = mean_squared_error(y_test, y_pred)\n",
        "r2 = r2_score(y_test, y_pred)\n",
        "\n",
        "print(f\"Mean Squared Error: {mse:.2f}\")\n",
        "print(f\"R-squared: {r2:.2f}\")\n",
        "\n",
        "# If you still want a visual representation, you can create a scatter plot\n",
        "# of predicted vs. actual values:\n",
        "plt.figure(figsize=(8, 6))\n",
        "sns.scatterplot(x=y_test, y=y_pred)\n",
        "plt.xlabel(\"Actual Values\")\n",
        "plt.ylabel(\"Predicted Values\")\n",
        "plt.title(\"Actual vs. Predicted Values (Decision Tree Regressor)\")\n",
        "plt.show()"
      ],
      "metadata": {
        "colab": {
          "base_uri": "https://localhost:8080/",
          "height": 599
        },
        "id": "KiqpB1VYrlxP",
        "outputId": "881fd588-ed01-4ea7-df8b-23d8ee0ecffd"
      },
      "execution_count": 8,
      "outputs": [
        {
          "output_type": "stream",
          "name": "stdout",
          "text": [
            "Mean Squared Error: 0.50\n",
            "R-squared: 0.62\n"
          ]
        },
        {
          "output_type": "display_data",
          "data": {
            "text/plain": [
              "<Figure size 800x600 with 1 Axes>"
            ],
            "image/png": "[encoded data removed]"
          },
          "metadata": {}
        }
      ]
    },
    {
      "cell_type": "markdown",
      "source": [
        "30.Write a Python program to train a Decision Tree Classifier and use GridSearchCV to find the optimal values for max_depth and min_samples_split."
      ],
      "metadata": {
        "id": "8jzRgK6jnV2s"
      }
    },
    {
      "cell_type": "code",
      "source": [
        "from sklearn.model_selection import GridSearchCV\n",
        "from sklearn.tree import DecisionTreeRegressor # Import DecisionTreeRegressor instead of DecisionTreeClassifier\n",
        "\n",
        "# Define parameter grid\n",
        "param_grid = {\n",
        "    \"max_depth\": [3, 5, 10, None],\n",
        "    \"min_samples_split\": [2, 5, 10]\n",
        "}\n",
        "\n",
        "# Perform Grid Search\n",
        "# Use DecisionTreeRegressor in GridSearchCV\n",
        "grid_search = GridSearchCV(DecisionTreeRegressor(random_state=42), param_grid, cv=5)\n",
        "grid_search.fit(X_train, y_train)\n",
        "\n",
        "# Print best parameters and score (e.g., R-squared)\n",
        "print(\"Best Parameters:\", grid_search.best_params_)\n",
        "print(\"Best R-squared:\", grid_search.best_score_)"
      ],
      "metadata": {
        "id": "fTbMbBDHroNr",
        "outputId": "5a6236ad-912b-4530-fe9c-21b6669e679c",
        "colab": {
          "base_uri": "https://localhost:8080/"
        }
      },
      "execution_count": 11,
      "outputs": [
        {
          "output_type": "stream",
          "name": "stdout",
          "text": [
            "Best Parameters: {'max_depth': 10, 'min_samples_split': 10}\n",
            "Best R-squared: 0.6959937053519777\n"
          ]
        }
      ]
    },
    {
      "cell_type": "code",
      "source": [],
      "metadata": {
        "id": "QoXonJvjrn9T"
      },
      "execution_count": null,
      "outputs": []
    },
    {
      "cell_type": "markdown",
      "source": [],
      "metadata": {
        "id": "jOi_1hHInVzt"
      }
    },
    {
      "cell_type": "markdown",
      "source": [],
      "metadata": {
        "id": "0K8F2G6PnVxB"
      }
    },
    {
      "cell_type": "markdown",
      "source": [],
      "metadata": {
        "id": "pOkgVEWNnVuM"
      }
    },
    {
      "cell_type": "markdown",
      "source": [],
      "metadata": {
        "id": "iIKp5ev7nVrV"
      }
    },
    {
      "cell_type": "markdown",
      "source": [],
      "metadata": {
        "id": "q0Gw6Iu2nVou"
      }
    },
    {
      "cell_type": "markdown",
      "source": [],
      "metadata": {
        "id": "1HueImsMnVl6"
      }
    },
    {
      "cell_type": "markdown",
      "source": [],
      "metadata": {
        "id": "_WanlG1thamQ"
      }
    },
    {
      "cell_type": "code",
      "execution_count": null,
      "metadata": {
        "id": "3VoJ40TQgemG"
      },
      "outputs": [],
      "source": []
    }
  ]
}